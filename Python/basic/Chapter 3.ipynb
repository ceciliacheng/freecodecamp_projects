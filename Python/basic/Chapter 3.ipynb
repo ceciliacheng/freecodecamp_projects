{
 "cells": [
  {
   "cell_type": "code",
   "execution_count": 3,
   "metadata": {},
   "outputs": [
    {
     "name": "stdout",
     "output_type": "stream",
     "text": [
      "It is certain\n"
     ]
    }
   ],
   "source": [
    "import random\n",
    "def getAnswer(answerNumber):\n",
    "    if answerNumber == 1:\n",
    "        return 'It is certain'\n",
    "    elif answerNumber == 2:\n",
    "        return 'It is decidedly so'\n",
    "    elif answerNumber == 3:\n",
    "        return 'Yes'\n",
    "    \n",
    "r = random.randint(1,3)\n",
    "fortune = getAnswer(r)\n",
    "print(fortune)"
   ]
  },
  {
   "cell_type": "code",
   "execution_count": 4,
   "metadata": {},
   "outputs": [
    {
     "name": "stdout",
     "output_type": "stream",
     "text": [
      "Yes\n"
     ]
    }
   ],
   "source": [
    "import random\n",
    "def getAnswer(answerNumber):\n",
    "    if answerNumber == 1:\n",
    "        return 'It is certain'\n",
    "    elif answerNumber == 2:\n",
    "        return 'It is decidedly so'\n",
    "    elif answerNumber == 3:\n",
    "        return 'Yes'\n",
    "    \n",
    "fortune = getAnswer(random.randint(1,3))\n",
    "print(fortune)"
   ]
  },
  {
   "cell_type": "code",
   "execution_count": 5,
   "metadata": {},
   "outputs": [
    {
     "data": {
      "text/plain": [
       "4"
      ]
     },
     "execution_count": 5,
     "metadata": {},
     "output_type": "execute_result"
    }
   ],
   "source": [
    "def num(a,b):\n",
    "    return a + b\n",
    "num(1,3)"
   ]
  },
  {
   "cell_type": "code",
   "execution_count": 16,
   "metadata": {},
   "outputs": [
    {
     "data": {
      "text/plain": [
       "10"
      ]
     },
     "execution_count": 16,
     "metadata": {},
     "output_type": "execute_result"
    }
   ],
   "source": [
    "def spam():\n",
    "    eggs = 99\n",
    "    bacon()\n",
    "    return eggs\n",
    "    \n",
    "def bacon():\n",
    "    ham = 9\n",
    "    return ham + 1\n",
    "\n",
    "bacon()"
   ]
  },
  {
   "cell_type": "code",
   "execution_count": 12,
   "metadata": {},
   "outputs": [
    {
     "name": "stdout",
     "output_type": "stream",
     "text": [
      "I am thinking of a number between 1 and 3.\n",
      "Take a guess.\n",
      "a\n",
      "超过范围了\n"
     ]
    }
   ],
   "source": [
    "import random\n",
    "secretNumber = random.randint(1,5)\n",
    "print('I am thinking of a number between 1 and 3.')\n",
    "\n",
    "try:\n",
    "    for guessesTaken in range(1,7):\n",
    "        print('Take a guess.')\n",
    "        guess = int(input())\n",
    "    \n",
    "        if guess < secretNumber:\n",
    "            print('Your guess is too low.')\n",
    "        elif guess > secretNumber:\n",
    "            print('Your guess is too high.')\n",
    "        else:\n",
    "            break\n",
    "\n",
    "    if guess == secretNumber:\n",
    "        print('Good job ' + str(guessesTaken) )\n",
    "    else:\n",
    "        print('Nope ' + str(secretNumber))\n",
    "    \n",
    "except ValueError:\n",
    "    print('超过范围了')"
   ]
  },
  {
   "cell_type": "code",
   "execution_count": null,
   "metadata": {},
   "outputs": [],
   "source": []
  }
 ],
 "metadata": {
  "kernelspec": {
   "display_name": "Python 3",
   "language": "python",
   "name": "python3"
  },
  "language_info": {
   "codemirror_mode": {
    "name": "ipython",
    "version": 3
   },
   "file_extension": ".py",
   "mimetype": "text/x-python",
   "name": "python",
   "nbconvert_exporter": "python",
   "pygments_lexer": "ipython3",
   "version": "3.6.4"
  }
 },
 "nbformat": 4,
 "nbformat_minor": 2
}
