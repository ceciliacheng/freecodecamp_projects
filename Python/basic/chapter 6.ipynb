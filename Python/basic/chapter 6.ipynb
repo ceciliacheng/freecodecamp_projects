{
 "cells": [
  {
   "cell_type": "code",
   "execution_count": 14,
   "metadata": {},
   "outputs": [
    {
     "name": "stdout",
     "output_type": "stream",
     "text": [
      "aaa\\nbbb\\nccc\n"
     ]
    }
   ],
   "source": [
    "print('aaa\\\\nbbb\\\\nccc')"
   ]
  },
  {
   "cell_type": "code",
   "execution_count": 2,
   "metadata": {},
   "outputs": [
    {
     "name": "stdout",
     "output_type": "stream",
     "text": [
      "aaa\tbbb\tccc\n"
     ]
    }
   ],
   "source": [
    "print('aaa\\tbbb\\tccc')"
   ]
  },
  {
   "cell_type": "code",
   "execution_count": 17,
   "metadata": {},
   "outputs": [
    {
     "name": "stdout",
     "output_type": "stream",
     "text": [
      "x aaa\n",
      "x bbb\n",
      "x ccc\n"
     ]
    }
   ],
   "source": [
    "text = 'aaa\\nbbb\\nccc'\n",
    "lines = text.split('\\n')\n",
    "\n",
    "for i in range(len(lines)):\n",
    "    lines[i] = \"x \" + lines[i]\n",
    "\n",
    "text = '\\n'.join(lines)\n",
    "print(text)"
   ]
  },
  {
   "cell_type": "code",
   "execution_count": 18,
   "metadata": {},
   "outputs": [
    {
     "name": "stdout",
     "output_type": "stream",
     "text": [
      "aaa \n",
      "bbb \n",
      "ccc\n"
     ]
    }
   ],
   "source": [
    "print('aaa \\nbbb \\nccc')"
   ]
  },
  {
   "cell_type": "code",
   "execution_count": null,
   "metadata": {},
   "outputs": [],
   "source": []
  }
 ],
 "metadata": {
  "kernelspec": {
   "display_name": "Python 3",
   "language": "python",
   "name": "python3"
  },
  "language_info": {
   "codemirror_mode": {
    "name": "ipython",
    "version": 3
   },
   "file_extension": ".py",
   "mimetype": "text/x-python",
   "name": "python",
   "nbconvert_exporter": "python",
   "pygments_lexer": "ipython3",
   "version": "3.6.4"
  }
 },
 "nbformat": 4,
 "nbformat_minor": 2
}
